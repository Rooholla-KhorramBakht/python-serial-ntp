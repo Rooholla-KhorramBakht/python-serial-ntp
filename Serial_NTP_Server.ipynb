{
 "cells": [
  {
   "cell_type": "code",
   "execution_count": 1,
   "metadata": {},
   "outputs": [],
   "source": [
    "import serial\n",
    "import time\n",
    "import struct\n",
    "import threading\n",
    "import time "
   ]
  },
  {
   "cell_type": "markdown",
   "metadata": {},
   "source": [
    "# Serial NTP Server Class"
   ]
  },
  {
   "cell_type": "code",
   "execution_count": null,
   "metadata": {},
   "outputs": [],
   "source": [
    "class serialNtpServer():\n",
    "    '''A class that implements an NTP Server with serial interface. This has been tested with SiK serial radio modules'''\n",
    "    \n",
    "    def __init__(self, port = '/dev/ttyUSB1', baudRate = 57600):\n",
    "        '''\n",
    "        The constructor of the Serial NTP Server class. With this, the NTP server starts\n",
    "        @param: port:\n",
    "        The serial ID of the port we want to use for the server (The port representing the radio module\n",
    "        @param: baudRate:\n",
    "        The communication boadrate of the serial interface\n",
    "        @param: record:\n",
    "        '''\n",
    "        self.port = serial.Serial(port ,baudRate, timeout = 2)        \n",
    "        self.running = True\n",
    "        self.receiveTread = threading.Thread(target=self.receivingThread, args=())\n",
    "        self.receiveTread.start()\n",
    "        \n",
    "    def receivingThread(self):\n",
    "        while self.running:\n",
    "            data = self.port.read(8)\n",
    "            if len(data) == 8:\n",
    "                #record the time of the recpetion of the request\n",
    "                self.stamp2 = time.time_ns();\n",
    "                self.stamp1 = int(struct.unpack('Q', data)[0])\n",
    "                self.transmitResponse()\n",
    "                \n",
    "    def transmitResponse(self):\n",
    "        #Send back the response containing the time of reception of the requiest and time we send the response\n",
    "        payload = struct.pack('3Q', self.stamp1, self.stamp2, time.time_ns())\n",
    "        self.port.write(payload)\n",
    "                \n",
    "    def serverStop(self):\n",
    "        self.running = False\n",
    "        self.receiveTread.join()\n",
    "        self.port.close()\n",
    "        "
   ]
  },
  {
   "cell_type": "markdown",
   "metadata": {},
   "source": [
    "## Start the Server"
   ]
  },
  {
   "cell_type": "code",
   "execution_count": null,
   "metadata": {},
   "outputs": [],
   "source": [
    "server = serialNtpServer()"
   ]
  }
 ],
 "metadata": {
  "kernelspec": {
   "display_name": "Python 3",
   "language": "python",
   "name": "python3"
  },
  "language_info": {
   "codemirror_mode": {
    "name": "ipython",
    "version": 3
   },
   "file_extension": ".py",
   "mimetype": "text/x-python",
   "name": "python",
   "nbconvert_exporter": "python",
   "pygments_lexer": "ipython3",
   "version": "3.8.6"
  }
 },
 "nbformat": 4,
 "nbformat_minor": 2
}
